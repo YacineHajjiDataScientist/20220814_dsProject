{
 "cells": [
  {
   "cell_type": "code",
   "execution_count": 12,
   "metadata": {},
   "outputs": [],
   "source": [
    "import pandas as pd \n",
    "import matplotlib.pyplot as plt\n",
    "%matplotlib inline\n",
    "import shap \n",
    "from joblib import load\n",
    "import pickle \n",
    "from sklearn.model_selection import train_test_split\n",
    "\n",
    "model_lgbm = load('LGBM.joblib')\n",
    "#model_optimal_xgb = load('optimal_xgb.joblib')\n",
    "#model_rf = load('rf_pluslight.joblib')\n",
    "\n",
    "\n",
    "df2 = pd.read_csv(\"20221031_table_dfPoolMLCCA.csv\", sep=\";\")\n",
    "\n",
    "with open('20221112_table_feature_matrix.csv', 'rb') as f:\n",
    "    df = pickle.load(f)\n",
    "\n",
    "\n",
    "target = df2[\"gravGrp_2_34\"]\n",
    "\n",
    "data = df.reset_index()\n",
    "data = data.drop(['Num_Acc'], axis = 1)\n",
    "\n",
    "X_train, X_test, y_train, y_test = train_test_split(data, target, test_size = 0.2, random_state = 1)\n",
    "\n"
   ]
  },
  {
   "cell_type": "code",
   "execution_count": 13,
   "metadata": {},
   "outputs": [
    {
     "name": "stdout",
     "output_type": "stream",
     "text": [
      "              precision    recall  f1-score   support\n",
      "\n",
      "           0       0.80      0.60      0.69     96536\n",
      "           1       0.59      0.80      0.68     70775\n",
      "\n",
      "    accuracy                           0.68    167311\n",
      "   macro avg       0.70      0.70      0.68    167311\n",
      "weighted avg       0.71      0.68      0.68    167311\n",
      "\n"
     ]
    }
   ],
   "source": [
    "from fonctions import * \n",
    "cutoff , model_pred_test= get_optimized_cutoff(model_lgbm,X_test, y_test, 0.8)\n"
   ]
  },
  {
   "cell_type": "code",
   "execution_count": 14,
   "metadata": {},
   "outputs": [
    {
     "name": "stdout",
     "output_type": "stream",
     "text": [
      "0.31\n"
     ]
    }
   ],
   "source": [
    "print(cutoff)"
   ]
  },
  {
   "cell_type": "code",
   "execution_count": 6,
   "metadata": {},
   "outputs": [
    {
     "name": "stdout",
     "output_type": "stream",
     "text": [
      "                       feature    recall\n",
      "0        populationGrp_Village  0.982242\n",
      "1           catv_train_exist_1  0.978723\n",
      "2                     situ_8.0  0.964029\n",
      "3                      lum_3.0  0.953566\n",
      "4                      atm_5.0  0.952712\n",
      "..                         ...       ...\n",
      "62  populationGrp_Grande Ville  0.561785\n",
      "63                   nbvGrp_4+  0.523133\n",
      "64                     col_4.0  0.480540\n",
      "65     populationGrp_Métropole  0.430764\n",
      "66            catv_EPD_exist_1  0.400000\n",
      "\n",
      "[67 rows x 2 columns]\n"
     ]
    }
   ],
   "source": [
    "df_results = recall_features(X_test, y_test, model_pred_test).reset_index().drop(['index'], axis=1)\n",
    "print(df_results)"
   ]
  },
  {
   "cell_type": "code",
   "execution_count": null,
   "metadata": {},
   "outputs": [],
   "source": []
  },
  {
   "cell_type": "code",
   "execution_count": null,
   "metadata": {},
   "outputs": [],
   "source": []
  },
  {
   "cell_type": "code",
   "execution_count": null,
   "metadata": {},
   "outputs": [],
   "source": []
  },
  {
   "cell_type": "code",
   "execution_count": null,
   "metadata": {},
   "outputs": [],
   "source": []
  }
 ],
 "metadata": {
  "kernelspec": {
   "display_name": "base",
   "language": "python",
   "name": "python3"
  },
  "language_info": {
   "codemirror_mode": {
    "name": "ipython",
    "version": 3
   },
   "file_extension": ".py",
   "mimetype": "text/x-python",
   "name": "python",
   "nbconvert_exporter": "python",
   "pygments_lexer": "ipython3",
   "version": "3.9.13"
  },
  "orig_nbformat": 4,
  "vscode": {
   "interpreter": {
    "hash": "f29c8b242f4b7019299f67a6c76bf95972b958a2955351c76566bb7865b86ca0"
   }
  }
 },
 "nbformat": 4,
 "nbformat_minor": 2
}
