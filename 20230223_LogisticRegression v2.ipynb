{
 "cells": [
  {
   "cell_type": "code",
   "execution_count": 1,
   "metadata": {},
   "outputs": [],
   "source": [
    "import pickle \n",
    "import pandas   as pd\n",
    "import numpy    as np\n",
    "\n",
    "from sklearn                 import  preprocessing\n",
    "from sklearn                 import linear_model\n",
    "from sklearn.model_selection import train_test_split\n",
    "from sklearn.preprocessing   import StandardScaler\n",
    "from sklearn.linear_model    import LogisticRegression, LogisticRegressionCV\n",
    "from sklearn.pipeline        import make_pipeline\n",
    "\n",
    "from sklearn.metrics import classification_report\n",
    "from sklearn.metrics import roc_auc_score\n",
    "\n",
    "import matplotlib.pyplot as plt "
   ]
  },
  {
   "cell_type": "code",
   "execution_count": 2,
   "metadata": {},
   "outputs": [],
   "source": [
    "\n",
    "##### Import of tables into dataframes\n",
    "data = pd.read_pickle('./import/20221112_table_feature_matrix.pkl')\n",
    "target = pd.read_pickle('./import/20221119_table_target.pkl')\n"
   ]
  },
  {
   "cell_type": "code",
   "execution_count": 5,
   "metadata": {},
   "outputs": [],
   "source": [
    "#Séparation des échantillons d'entrainement et de test en 80%-20%\n",
    "X_train, X_test, y_train, y_test = train_test_split(data, target, test_size = 0.2, random_state = 123)"
   ]
  },
  {
   "cell_type": "code",
   "execution_count": 6,
   "metadata": {},
   "outputs": [
    {
     "name": "stdout",
     "output_type": "stream",
     "text": [
      "Regression Logistic sans normalisation\n"
     ]
    }
   ],
   "source": [
    "print('Regression Logistic')\n",
    "clf= LogisticRegressionCV(cv=5, scoring='roc_auc', n_jobs=-1)\n",
    "clf.fit(X_train, y_train)\n"
   ]
  },
  {
   "cell_type": "code",
   "execution_count": 7,
   "metadata": {},
   "outputs": [
    {
     "data": {
      "text/html": [
       "<div>\n",
       "<style scoped>\n",
       "    .dataframe tbody tr th:only-of-type {\n",
       "        vertical-align: middle;\n",
       "    }\n",
       "\n",
       "    .dataframe tbody tr th {\n",
       "        vertical-align: top;\n",
       "    }\n",
       "\n",
       "    .dataframe thead th {\n",
       "        text-align: right;\n",
       "    }\n",
       "</style>\n",
       "<table border=\"1\" class=\"dataframe\">\n",
       "  <thead>\n",
       "    <tr style=\"text-align: right;\">\n",
       "      <th>col_0</th>\n",
       "      <th>False</th>\n",
       "      <th>True</th>\n",
       "    </tr>\n",
       "    <tr>\n",
       "      <th>gravGrp_2_34</th>\n",
       "      <th></th>\n",
       "      <th></th>\n",
       "    </tr>\n",
       "  </thead>\n",
       "  <tbody>\n",
       "    <tr>\n",
       "      <th>0</th>\n",
       "      <td>0.476989</td>\n",
       "      <td>0.099611</td>\n",
       "    </tr>\n",
       "    <tr>\n",
       "      <th>1</th>\n",
       "      <td>0.175016</td>\n",
       "      <td>0.248384</td>\n",
       "    </tr>\n",
       "  </tbody>\n",
       "</table>\n",
       "</div>"
      ],
      "text/plain": [
       "col_0            False     True \n",
       "gravGrp_2_34                    \n",
       "0             0.476989  0.099611\n",
       "1             0.175016  0.248384"
      ]
     },
     "execution_count": 7,
     "metadata": {},
     "output_type": "execute_result"
    }
   ],
   "source": [
    "## Évaluation du modèle de classification\n",
    "y_pred_train=clf.predict(X_train)\n",
    "\n",
    "# Matrice de confusion \n",
    "pd.crosstab(y_train, y_pred_train>=0.5, normalize=True)"
   ]
  },
  {
   "cell_type": "code",
   "execution_count": 27,
   "metadata": {},
   "outputs": [
    {
     "data": {
      "text/html": [
       "<div>\n",
       "<style scoped>\n",
       "    .dataframe tbody tr th:only-of-type {\n",
       "        vertical-align: middle;\n",
       "    }\n",
       "\n",
       "    .dataframe tbody tr th {\n",
       "        vertical-align: top;\n",
       "    }\n",
       "\n",
       "    .dataframe thead th {\n",
       "        text-align: right;\n",
       "    }\n",
       "</style>\n",
       "<table border=\"1\" class=\"dataframe\">\n",
       "  <thead>\n",
       "    <tr style=\"text-align: right;\">\n",
       "      <th>Classe prédite</th>\n",
       "      <th>False</th>\n",
       "      <th>True</th>\n",
       "    </tr>\n",
       "    <tr>\n",
       "      <th>Classe réelle</th>\n",
       "      <th></th>\n",
       "      <th></th>\n",
       "    </tr>\n",
       "  </thead>\n",
       "  <tbody>\n",
       "    <tr>\n",
       "      <th>0</th>\n",
       "      <td>0.476783</td>\n",
       "      <td>0.100203</td>\n",
       "    </tr>\n",
       "    <tr>\n",
       "      <th>1</th>\n",
       "      <td>0.175757</td>\n",
       "      <td>0.247258</td>\n",
       "    </tr>\n",
       "  </tbody>\n",
       "</table>\n",
       "</div>"
      ],
      "text/plain": [
       "Classe prédite     False     True \n",
       "Classe réelle                     \n",
       "0               0.476783  0.100203\n",
       "1               0.175757  0.247258"
      ]
     },
     "execution_count": 27,
     "metadata": {},
     "output_type": "execute_result"
    }
   ],
   "source": [
    "## Évaluation du modèle de classification\n",
    "y_pred_test =clf.predict(X_test)\n",
    "\n",
    "# Matrice de confusion \n",
    "pd.crosstab(y_test, y_pred_test>=0.5, normalize=True,  rownames=['Classe réelle'], colnames=['Classe prédite'])"
   ]
  },
  {
   "cell_type": "code",
   "execution_count": 9,
   "metadata": {},
   "outputs": [
    {
     "name": "stdout",
     "output_type": "stream",
     "text": [
      "              precision    recall  f1-score   support\n",
      "\n",
      "           0       0.73      0.83      0.78    385885\n",
      "           1       0.71      0.59      0.64    283357\n",
      "\n",
      "    accuracy                           0.73    669242\n",
      "   macro avg       0.72      0.71      0.71    669242\n",
      "weighted avg       0.72      0.73      0.72    669242\n",
      "\n",
      "              precision    recall  f1-score   support\n",
      "\n",
      "           0       0.73      0.83      0.78     96536\n",
      "           1       0.71      0.58      0.64     70775\n",
      "\n",
      "    accuracy                           0.72    167311\n",
      "   macro avg       0.72      0.71      0.71    167311\n",
      "weighted avg       0.72      0.72      0.72    167311\n",
      "\n"
     ]
    }
   ],
   "source": [
    "# Performance criteria\n",
    "print(classification_report(y_train, y_pred_train>=0.5))\n",
    "print(classification_report(y_test,  y_pred_test>=0.5))"
   ]
  },
  {
   "cell_type": "code",
   "execution_count": 10,
   "metadata": {},
   "outputs": [
    {
     "data": {
      "text/html": [
       "<div>\n",
       "<style scoped>\n",
       "    .dataframe tbody tr th:only-of-type {\n",
       "        vertical-align: middle;\n",
       "    }\n",
       "\n",
       "    .dataframe tbody tr th {\n",
       "        vertical-align: top;\n",
       "    }\n",
       "\n",
       "    .dataframe thead th {\n",
       "        text-align: right;\n",
       "    }\n",
       "</style>\n",
       "<table border=\"1\" class=\"dataframe\">\n",
       "  <thead>\n",
       "    <tr style=\"text-align: right;\">\n",
       "      <th>Classe prédite</th>\n",
       "      <th>0</th>\n",
       "      <th>1</th>\n",
       "    </tr>\n",
       "    <tr>\n",
       "      <th>Classe réelle</th>\n",
       "      <th></th>\n",
       "      <th></th>\n",
       "    </tr>\n",
       "  </thead>\n",
       "  <tbody>\n",
       "    <tr>\n",
       "      <th>0</th>\n",
       "      <td>68962</td>\n",
       "      <td>27574</td>\n",
       "    </tr>\n",
       "    <tr>\n",
       "      <th>1</th>\n",
       "      <td>21753</td>\n",
       "      <td>49022</td>\n",
       "    </tr>\n",
       "  </tbody>\n",
       "</table>\n",
       "</div>"
      ],
      "text/plain": [
       "Classe prédite      0      1\n",
       "Classe réelle               \n",
       "0               68962  27574\n",
       "1               21753  49022"
      ]
     },
     "execution_count": 10,
     "metadata": {},
     "output_type": "execute_result"
    }
   ],
   "source": [
    "probs = clf.predict_proba(X_test)\n",
    "\n",
    "y_preds = np.where(probs[:,1]>0.4,1,0)\n",
    "\n",
    "cm = pd.crosstab(y_test, y_preds, rownames=['Classe réelle'], colnames=['Classe prédite'])\n",
    "cm"
   ]
  },
  {
   "cell_type": "code",
   "execution_count": 11,
   "metadata": {},
   "outputs": [
    {
     "name": "stdout",
     "output_type": "stream",
     "text": [
      "AUC Train:0.70694\n",
      "AUC Test: 0.70542\n"
     ]
    }
   ],
   "source": [
    "#AUC Train\n",
    "roc_train=roc_auc_score(y_train, y_pred_train)\n",
    "\n",
    "#AUC Test\n",
    "roc_test=roc_auc_score(y_test, y_pred_test)\n",
    "\n",
    "print('AUC Train:%0.5f' %roc_train)\n",
    "print('AUC Test: %0.5f' %roc_test)\n"
   ]
  },
  {
   "cell_type": "code",
   "execution_count": 12,
   "metadata": {},
   "outputs": [
    {
     "data": {
      "image/png": "[encoded data removed]",
      "text/plain": [
       "<Figure size 640x480 with 1 Axes>"
      ]
     },
     "metadata": {},
     "output_type": "display_data"
    }
   ],
   "source": [
    "#courbe ROC pour evaluer la performance du modèle\n",
    "from sklearn.metrics import roc_curve, auc\n",
    "\n",
    "fpr, tpr, seuils = roc_curve(y_test, probs[:,1], pos_label=1)\n",
    "roc_auc = auc(fpr, tpr)\n",
    "\n",
    "plt.plot(fpr, tpr, color='orange', lw=2, label='Modèle clf (auc = %0.2f)' % roc_auc)\n",
    "plt.plot([0, 1], [0, 1], color='navy', lw=2, linestyle='--', label='Aléatoire (auc = 0.5)')\n",
    "plt.xlim([0.0, 1.0])\n",
    "plt.ylim([0.0, 1.05])\n",
    "plt.xlabel('Taux faux positifs')\n",
    "plt.ylabel('Taux vrais positifs')\n",
    "plt.title('Courbe ROC')\n",
    "plt.legend(loc=\"lower right\")\n",
    "plt.show();"
   ]
  },
  {
   "cell_type": "code",
   "execution_count": 13,
   "metadata": {},
   "outputs": [
    {
     "name": "stdout",
     "output_type": "stream",
     "text": [
      "Regression Logistic avec normalisation\n"
     ]
    }
   ],
   "source": [
    "#LR avec Normalisation des données\n",
    "scaler=preprocessing.StandardScaler().fit(X_train)\n",
    "X_train_scaled = scaler.fit_transform(X_train)\n",
    "\n",
    "clf_sc= LogisticRegressionCV(cv=10, scoring='roc_auc', n_jobs=-1)\n",
    "clf_sc.fit(X_train_scaled, y_train)\n",
    "print('Regression Logistic avec normalisation')"
   ]
  },
  {
   "cell_type": "code",
   "execution_count": 14,
   "metadata": {},
   "outputs": [
    {
     "name": "stderr",
     "output_type": "stream",
     "text": [
      "c:\\Users\\possa\\miniforge3\\envs\\datasc01\\lib\\site-packages\\sklearn\\base.py:450: UserWarning: X does not have valid feature names, but LogisticRegressionCV was fitted with feature names\n",
      "  warnings.warn(\n"
     ]
    },
    {
     "data": {
      "text/html": [
       "<div>\n",
       "<style scoped>\n",
       "    .dataframe tbody tr th:only-of-type {\n",
       "        vertical-align: middle;\n",
       "    }\n",
       "\n",
       "    .dataframe tbody tr th {\n",
       "        vertical-align: top;\n",
       "    }\n",
       "\n",
       "    .dataframe thead th {\n",
       "        text-align: right;\n",
       "    }\n",
       "</style>\n",
       "<table border=\"1\" class=\"dataframe\">\n",
       "  <thead>\n",
       "    <tr style=\"text-align: right;\">\n",
       "      <th>col_0</th>\n",
       "      <th>False</th>\n",
       "      <th>True</th>\n",
       "    </tr>\n",
       "    <tr>\n",
       "      <th>gravGrp_2_34</th>\n",
       "      <th></th>\n",
       "      <th></th>\n",
       "    </tr>\n",
       "  </thead>\n",
       "  <tbody>\n",
       "    <tr>\n",
       "      <th>0</th>\n",
       "      <td>0.379434</td>\n",
       "      <td>0.197166</td>\n",
       "    </tr>\n",
       "    <tr>\n",
       "      <th>1</th>\n",
       "      <td>0.115897</td>\n",
       "      <td>0.307503</td>\n",
       "    </tr>\n",
       "  </tbody>\n",
       "</table>\n",
       "</div>"
      ],
      "text/plain": [
       "col_0            False     True \n",
       "gravGrp_2_34                    \n",
       "0             0.379434  0.197166\n",
       "1             0.115897  0.307503"
      ]
     },
     "execution_count": 14,
     "metadata": {},
     "output_type": "execute_result"
    }
   ],
   "source": [
    "## Évaluation du modèle de classification\n",
    "y_pred_train_scaled=clf.predict(X_train_scaled)\n",
    "\n",
    "# Matrice de confusion \n",
    "pd.crosstab(y_train, y_pred_train_scaled>=0.5, normalize=True)"
   ]
  },
  {
   "cell_type": "code",
   "execution_count": 15,
   "metadata": {},
   "outputs": [
    {
     "name": "stderr",
     "output_type": "stream",
     "text": [
      "c:\\Users\\possa\\miniforge3\\envs\\datasc01\\lib\\site-packages\\sklearn\\base.py:450: UserWarning: X does not have valid feature names, but LogisticRegressionCV was fitted with feature names\n",
      "  warnings.warn(\n"
     ]
    },
    {
     "data": {
      "text/html": [
       "<div>\n",
       "<style scoped>\n",
       "    .dataframe tbody tr th:only-of-type {\n",
       "        vertical-align: middle;\n",
       "    }\n",
       "\n",
       "    .dataframe tbody tr th {\n",
       "        vertical-align: top;\n",
       "    }\n",
       "\n",
       "    .dataframe thead th {\n",
       "        text-align: right;\n",
       "    }\n",
       "</style>\n",
       "<table border=\"1\" class=\"dataframe\">\n",
       "  <thead>\n",
       "    <tr style=\"text-align: right;\">\n",
       "      <th>col_0</th>\n",
       "      <th>False</th>\n",
       "      <th>True</th>\n",
       "    </tr>\n",
       "    <tr>\n",
       "      <th>gravGrp_2_34</th>\n",
       "      <th></th>\n",
       "      <th></th>\n",
       "    </tr>\n",
       "  </thead>\n",
       "  <tbody>\n",
       "    <tr>\n",
       "      <th>0</th>\n",
       "      <td>0.379252</td>\n",
       "      <td>0.197734</td>\n",
       "    </tr>\n",
       "    <tr>\n",
       "      <th>1</th>\n",
       "      <td>0.116436</td>\n",
       "      <td>0.306579</td>\n",
       "    </tr>\n",
       "  </tbody>\n",
       "</table>\n",
       "</div>"
      ],
      "text/plain": [
       "col_0            False     True \n",
       "gravGrp_2_34                    \n",
       "0             0.379252  0.197734\n",
       "1             0.116436  0.306579"
      ]
     },
     "execution_count": 15,
     "metadata": {},
     "output_type": "execute_result"
    }
   ],
   "source": [
    "X_test_scaled = scaler.fit_transform(X_test)\n",
    "## Évaluation du modèle de classification\n",
    "y_pred_test_scaled =clf.predict(X_test_scaled)\n",
    "\n",
    "# Matrice de confusion \n",
    "pd.crosstab(y_test, y_pred_test_scaled>=0.5, normalize=True)"
   ]
  },
  {
   "cell_type": "code",
   "execution_count": 26,
   "metadata": {},
   "outputs": [
    {
     "name": "stdout",
     "output_type": "stream",
     "text": [
      "----------------------   Critères de Performance: T R A I N  ------------------------------\n",
      "              precision    recall  f1-score   support\n",
      "\n",
      "           0       0.77      0.66      0.71    385885\n",
      "           1       0.61      0.73      0.66    283357\n",
      "\n",
      "    accuracy                           0.69    669242\n",
      "   macro avg       0.69      0.69      0.69    669242\n",
      "weighted avg       0.70      0.69      0.69    669242\n",
      "\n",
      "----------------------   Critères de Performance: T E S T  --------------------------------\n",
      "              precision    recall  f1-score   support\n",
      "\n",
      "           0       0.77      0.66      0.71     96536\n",
      "           1       0.61      0.72      0.66     70775\n",
      "\n",
      "    accuracy                           0.69    167311\n",
      "   macro avg       0.69      0.69      0.68    167311\n",
      "weighted avg       0.70      0.69      0.69    167311\n",
      "\n",
      "Nous pouvons dire que le modèle utilisé est performant puisque les résultats sur l'échantillon de Test diffèrent peu de ceux réalisé sur celui de l'entrainement. \n"
     ]
    }
   ],
   "source": [
    "# Performance criteria\n",
    "print('----------------------   Critères de Performance: T R A I N  ------------------------------')\n",
    "print(classification_report(y_train, y_pred_train_scaled>=0.5))\n",
    "print('----------------------   Critères de Performance: T E S T  --------------------------------')\n",
    "print(classification_report(y_test,  y_pred_test_scaled>=0.5))\n",
    "\n",
    "print(\"Nous pouvons dire que le modèle utilisé est performant puisque les résultats sur l'échantillon de Test diffèrent peu de ceux réalisé sur celui de l'entrainement. \" )"
   ]
  },
  {
   "cell_type": "code",
   "execution_count": 17,
   "metadata": {},
   "outputs": [
    {
     "name": "stdout",
     "output_type": "stream",
     "text": [
      "AUC Train normalisé: 0.70694\n",
      "AUC Test  normalisé: 0.70542\n"
     ]
    }
   ],
   "source": [
    "#AUC Train\n",
    "roc_train_scaled=roc_auc_score(y_train, y_pred_train_scaled)\n",
    "\n",
    "#AUC Test\n",
    "roc_test_scaled =roc_auc_score(y_test, y_pred_test_scaled)\n",
    "\n",
    "print('AUC Train normalisé: %0.5f' %roc_train)\n",
    "print('AUC Test  normalisé: %0.5f' %roc_test)\n"
   ]
  },
  {
   "cell_type": "code",
   "execution_count": 18,
   "metadata": {},
   "outputs": [
    {
     "name": "stderr",
     "output_type": "stream",
     "text": [
      "c:\\Users\\possa\\miniforge3\\envs\\datasc01\\lib\\site-packages\\sklearn\\base.py:450: UserWarning: X does not have valid feature names, but LogisticRegressionCV was fitted with feature names\n",
      "  warnings.warn(\n"
     ]
    },
    {
     "data": {
      "image/png": "[encoded data removed]",
      "text/plain": [
       "<Figure size 640x480 with 1 Axes>"
      ]
     },
     "metadata": {},
     "output_type": "display_data"
    }
   ],
   "source": [
    "#courbe ROC pour evaluer la performance du modèle\n",
    "from sklearn.metrics import roc_curve, auc\n",
    "\n",
    "fpr, tpr, seuils = roc_curve(y_test, probs[:,1], pos_label=1)\n",
    "roc_auc = auc(fpr, tpr)\n",
    "\n",
    "probs = clf.predict_proba(X_test_scaled)\n",
    "y_preds = np.where(probs[:,1]>0.4,1,0)\n",
    "\n",
    "cm = pd.crosstab(y_test, y_preds, rownames=['Classe réelle'], colnames=['Classe prédite'])\n",
    "cm\n",
    "\n",
    "plt.plot(fpr, tpr, color='orange', lw=2, label='Modèle clf (auc = %0.2f)' % roc_auc)\n",
    "plt.plot([0, 1], [0, 1], color='navy', lw=2, linestyle='--', label='Aléatoire (auc = 0.5)')\n",
    "plt.xlim([0.0, 1.0])\n",
    "plt.ylim([0.0, 1.05])\n",
    "plt.xlabel('Taux faux positifs')\n",
    "plt.ylabel('Taux vrais positifs')\n",
    "plt.title('Courbe ROC')\n",
    "plt.legend(loc=\"lower right\")\n",
    "plt.show();"
   ]
  }
 ],
 "metadata": {
  "kernelspec": {
   "display_name": "Python 3.10.6 64-bit",
   "language": "python",
   "name": "python3"
  },
  "language_info": {
   "codemirror_mode": {
    "name": "ipython",
    "version": 3
   },
   "file_extension": ".py",
   "mimetype": "text/x-python",
   "name": "python",
   "nbconvert_exporter": "python",
   "pygments_lexer": "ipython3",
   "version": "3.10.6"
  },
  "orig_nbformat": 4,
  "vscode": {
   "interpreter": {
    "hash": "a26ec87882ae64337b4a7c98a78c358f83433995cef044519888007a4eeecfe9"
   }
  }
 },
 "nbformat": 4,
 "nbformat_minor": 2
}
