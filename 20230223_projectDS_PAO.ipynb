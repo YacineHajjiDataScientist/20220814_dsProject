{
 "cells": [
  {
   "cell_type": "code",
   "execution_count": 1,
   "id": "2b7641f8",
   "metadata": {},
   "outputs": [],
   "source": [
    "# import modules\n",
    "import os\n",
    "import pandas as pd\n",
    "import numpy as np\n",
    "import matplotlib.pyplot as plt\n",
    "import seaborn as sns\n",
    "#import dill\n",
    "from scipy.stats import pearsonr\n",
    "import math\n",
    "from scipy.stats import chi2_contingency\n",
    "\n",
    "%matplotlib inline"
   ]
  },
  {
   "cell_type": "code",
   "execution_count": 2,
   "id": "20bdea92",
   "metadata": {},
   "outputs": [],
   "source": [
    "# functions\n",
    "def V_cramer(tab, n):\n",
    "    # Initiating objects\n",
    "    nrow, ncol = tab.shape\n",
    "    resultats_test = chi2_contingency(tab)\n",
    "    statistique = resultats_test[0]\n",
    "    # Computing objects\n",
    "    r = ncol - (((ncol - 1) **  2) / (n - 1))\n",
    "    k = nrow - (((nrow - 1) **  2) / (n - 1))\n",
    "    phi_squared = max(0, ((statistique / n) - (((ncol - 1) * (nrow - 1)) / (n - 1))))\n",
    "    V = math.sqrt((phi_squared / (min(k - 1, r - 1))))\n",
    "    return V"
   ]
  },
  {
   "cell_type": "code",
   "execution_count": 3,
   "id": "19b523a2",
   "metadata": {},
   "outputs": [
    {
     "name": "stderr",
     "output_type": "stream",
     "text": [
      "C:\\Users\\possa\\AppData\\Local\\Temp\\ipykernel_20464\\2312992414.py:2: DtypeWarning: Columns (4,9,10,14,15) have mixed types. Specify dtype option on import or set low_memory=False.\n",
      "  dfLieux = pd.read_csv('./import/20220906_table_lieux.csv', sep=',')\n",
      "C:\\Users\\possa\\AppData\\Local\\Temp\\ipykernel_20464\\2312992414.py:3: DtypeWarning: Columns (10,14) have mixed types. Specify dtype option on import or set low_memory=False.\n",
      "  dfUsagers = pd.read_csv('./import/20220906_table_usagers.csv', sep=',')\n",
      "C:\\Users\\possa\\AppData\\Local\\Temp\\ipykernel_20464\\2312992414.py:5: DtypeWarning: Columns (11) have mixed types. Specify dtype option on import or set low_memory=False.\n",
      "  dfVehicules = pd.read_csv('./import/20220906_table_vehicules.csv', sep=',')\n",
      "C:\\Users\\possa\\AppData\\Local\\Temp\\ipykernel_20464\\2312992414.py:7: DtypeWarning: Columns (6,12,14,15,16,17) have mixed types. Specify dtype option on import or set low_memory=False.\n",
      "  dfCarac = pd.read_csv('./import/20220906_table_caracteristiques.csv', sep=',')\n",
      "C:\\Users\\possa\\AppData\\Local\\Temp\\ipykernel_20464\\2312992414.py:8: DtypeWarning: Columns (19,20,31) have mixed types. Specify dtype option on import or set low_memory=False.\n",
      "  dfPool = pd.read_csv('./import/20221023_table_pool.csv', sep=',')\n"
     ]
    }
   ],
   "source": [
    "##### Import of tables into dataframes\n",
    "dfLieux = pd.read_csv('./import/20220906_table_lieux.csv', sep=',')\n",
    "dfUsagers = pd.read_csv('./import/20220906_table_usagers.csv', sep=',')\n",
    "dfUsagers = dfUsagers.drop([\"Unnamed: 0.1\",\"Unnamed: 0\"], axis = 1)\n",
    "dfVehicules = pd.read_csv('./import/20220906_table_vehicules.csv', sep=',')\n",
    "dfVehicules = dfVehicules.drop([\"Unnamed: 0.1\",\"Unnamed: 0\"], axis = 1)\n",
    "dfCarac = pd.read_csv('./import/20220906_table_caracteristiques.csv', sep=',')\n",
    "dfPool = pd.read_csv('./import/20221023_table_pool.csv', sep=',')\n"
   ]
  },
  {
   "cell_type": "code",
   "execution_count": 4,
   "id": "c2a93ae2",
   "metadata": {},
   "outputs": [
    {
     "name": "stdout",
     "output_type": "stream",
     "text": [
      "dfLieux dimensions: (1065053, 22)\n",
      "dfUsagers dimensions: (2380467, 17)\n",
      "dfVehicules dimensions: (1817587, 12)\n",
      "dfCarac dimensions: (1065053, 19)\n",
      "dfPool dimensions: (1065053, 69)\n"
     ]
    }
   ],
   "source": [
    "print('dfLieux dimensions:', dfLieux.shape)\n",
    "print('dfUsagers dimensions:', dfUsagers.shape)\n",
    "print('dfVehicules dimensions:', dfVehicules.shape)\n",
    "print('dfCarac dimensions:', dfCarac.shape)\n",
    "print('dfPool dimensions:', dfPool.shape)"
   ]
  },
  {
   "cell_type": "markdown",
   "id": "44884f94",
   "metadata": {},
   "source": [
    "# Descriptive Statistics"
   ]
  },
  {
   "cell_type": "markdown",
   "id": "5c7969b2",
   "metadata": {},
   "source": [
    "## Tables des usagers"
   ]
  },
  {
   "cell_type": "code",
   "execution_count": 5,
   "id": "386d2c4b",
   "metadata": {},
   "outputs": [
    {
     "name": "stderr",
     "output_type": "stream",
     "text": [
      "C:\\Users\\possa\\AppData\\Local\\Temp\\ipykernel_20464\\1196794612.py:3: UserWarning: Parsing dates in DD/MM/YYYY format when dayfirst=False (the default) was specified. This may lead to inconsistently parsed dates! Specify a format to ensure consistent parsing.\n",
      "  dfCarac['date'] = pd.to_datetime(dfCarac['date']);\n"
     ]
    }
   ],
   "source": [
    "# Computing date variable\n",
    "dfCarac['date'] = dfCarac['jour'].astype(str) + '-' + dfCarac['mois'].astype(str) + '-' + dfCarac['an'].astype(str)\n",
    "dfCarac['date'] = pd.to_datetime(dfCarac['date']);\n",
    "\n",
    "# Computing months with categorical labels\n",
    "dfCarac['mois_label'] = dfCarac['mois']\n",
    "dfCarac['mois_label'] = dfCarac['mois_label'].replace(to_replace=np.arange(1, 13, 1), \n",
    "                                                      value=['jan', 'fev', 'mar', 'apr', 'may', 'jun', 'jul', 'aug', 'sep', 'oct', 'nov', 'dec'])\n",
    "# Days of the week\n",
    "dfCarac['weekday'] = dfCarac['date'].dt.weekday\n",
    "\n",
    "# Hour of the day\n",
    "dfCarac['hrmn'] = dfCarac['hrmn'].replace('\\:', '', regex=True).astype(int)\n",
    "dfCarac['hour'] = dfCarac['hrmn']//100\n",
    "\n",
    "# Year of accident\n",
    "dfCarac['year'] = dfCarac['date'].dt.year\n",
    "\n",
    "# Adding the year variable to dfUsagers dataframe\n",
    "dfUsagers = dfUsagers.merge(right=dfCarac[['Num_Acc', 'year']], on='Num_Acc')\n",
    "\n",
    "# Age of people during the accident (removing ages above 99, could be completion issues and there are very few values)\n",
    "dfUsagers['age'] = dfUsagers.year - dfUsagers.an_nais\n",
    "dfUsagers.loc[dfUsagers['age'] > 99, 'age'] = np.NAN"
   ]
  },
  {
   "cell_type": "code",
   "execution_count": 6,
   "id": "b8f68356",
   "metadata": {},
   "outputs": [],
   "source": [
    "## actp: harmonization des valeurs et transformation des -1 en NA\n",
    "dfUsagers['actp'] = dfUsagers['actp'].replace({'0.0':0, '0':0, 0:0, 'O':0,\n",
    "                                            #   '-1.0':np.NAN, '-1':np.NAN, ' -1':np.NAN, -1:np.NAN,\n",
    "                                              '-1.0':0, '-1':0, ' -1':0, -1:0,\n",
    "                                              '1.0':1, '1':1, 1:1,\n",
    "                                              '2.0':2, '2':2, 2:2,\n",
    "                                              '3.0':3, '3':3, 3:3,\n",
    "                                              '4.0':4, '4':4, 4:4,\n",
    "                                              '5.0':5, '5':5, 5:5,\n",
    "                                              '6.0':6, '6':6, 6:6,\n",
    "                                              '7.0':7, '7':7, 7:7,\n",
    "                                              '8.0':8, '8':8, 8:8,\n",
    "                                              '9.0':9, '9':9, 9:9,\n",
    "                                              'A'  :10,'B':11\n",
    "                                              })"
   ]
  },
  {
   "cell_type": "code",
   "execution_count": 7,
   "id": "35977fa1",
   "metadata": {},
   "outputs": [
    {
     "name": "stdout",
     "output_type": "stream",
     "text": [
      "<class 'pandas.core.frame.DataFrame'>\n",
      "Int64Index: 2380467 entries, 0 to 2380466\n",
      "Data columns (total 19 columns):\n",
      " #   Column       Dtype  \n",
      "---  ------       -----  \n",
      " 0   Num_Acc      int64  \n",
      " 1   place        Int32  \n",
      " 2   catu         int64  \n",
      " 3   grav         int64  \n",
      " 4   sexe         int64  \n",
      " 5   trajet       float64\n",
      " 6   secu         Int32  \n",
      " 7   locp         Int32  \n",
      " 8   actp         Int32  \n",
      " 9   etatp        Int32  \n",
      " 10  an_nais      Int32  \n",
      " 11  num_veh      object \n",
      " 12  id_vehicule  object \n",
      " 13  secu1        Int32  \n",
      " 14  secu2        Int32  \n",
      " 15  secu3        Int32  \n",
      " 16  grav2        int64  \n",
      " 17  year         int64  \n",
      " 18  age          Int64  \n",
      "dtypes: Int32(9), Int64(1), float64(1), int64(6), object(2)\n",
      "memory usage: 304.2+ MB\n"
     ]
    },
    {
     "data": {
      "text/html": [
       "<div>\n",
       "<style scoped>\n",
       "    .dataframe tbody tr th:only-of-type {\n",
       "        vertical-align: middle;\n",
       "    }\n",
       "\n",
       "    .dataframe tbody tr th {\n",
       "        vertical-align: top;\n",
       "    }\n",
       "\n",
       "    .dataframe thead th {\n",
       "        text-align: right;\n",
       "    }\n",
       "</style>\n",
       "<table border=\"1\" class=\"dataframe\">\n",
       "  <thead>\n",
       "    <tr style=\"text-align: right;\">\n",
       "      <th></th>\n",
       "      <th>Num_Acc</th>\n",
       "      <th>place</th>\n",
       "      <th>catu</th>\n",
       "      <th>grav</th>\n",
       "      <th>sexe</th>\n",
       "      <th>trajet</th>\n",
       "      <th>secu</th>\n",
       "      <th>locp</th>\n",
       "      <th>actp</th>\n",
       "      <th>etatp</th>\n",
       "      <th>an_nais</th>\n",
       "      <th>num_veh</th>\n",
       "      <th>id_vehicule</th>\n",
       "      <th>secu1</th>\n",
       "      <th>secu2</th>\n",
       "      <th>secu3</th>\n",
       "      <th>grav2</th>\n",
       "      <th>year</th>\n",
       "      <th>age</th>\n",
       "    </tr>\n",
       "  </thead>\n",
       "  <tbody>\n",
       "    <tr>\n",
       "      <th>0</th>\n",
       "      <td>201600000001</td>\n",
       "      <td>1</td>\n",
       "      <td>1</td>\n",
       "      <td>1</td>\n",
       "      <td>2</td>\n",
       "      <td>0.0</td>\n",
       "      <td>11</td>\n",
       "      <td>0</td>\n",
       "      <td>0</td>\n",
       "      <td>0</td>\n",
       "      <td>1983</td>\n",
       "      <td>B02</td>\n",
       "      <td>NaN</td>\n",
       "      <td>&lt;NA&gt;</td>\n",
       "      <td>&lt;NA&gt;</td>\n",
       "      <td>&lt;NA&gt;</td>\n",
       "      <td>1</td>\n",
       "      <td>2016</td>\n",
       "      <td>33</td>\n",
       "    </tr>\n",
       "    <tr>\n",
       "      <th>1</th>\n",
       "      <td>201600000001</td>\n",
       "      <td>1</td>\n",
       "      <td>1</td>\n",
       "      <td>3</td>\n",
       "      <td>1</td>\n",
       "      <td>9.0</td>\n",
       "      <td>21</td>\n",
       "      <td>0</td>\n",
       "      <td>0</td>\n",
       "      <td>0</td>\n",
       "      <td>2001</td>\n",
       "      <td>A01</td>\n",
       "      <td>NaN</td>\n",
       "      <td>&lt;NA&gt;</td>\n",
       "      <td>&lt;NA&gt;</td>\n",
       "      <td>&lt;NA&gt;</td>\n",
       "      <td>3</td>\n",
       "      <td>2016</td>\n",
       "      <td>15</td>\n",
       "    </tr>\n",
       "    <tr>\n",
       "      <th>2</th>\n",
       "      <td>201600000002</td>\n",
       "      <td>1</td>\n",
       "      <td>1</td>\n",
       "      <td>3</td>\n",
       "      <td>1</td>\n",
       "      <td>5.0</td>\n",
       "      <td>11</td>\n",
       "      <td>0</td>\n",
       "      <td>0</td>\n",
       "      <td>0</td>\n",
       "      <td>1960</td>\n",
       "      <td>A01</td>\n",
       "      <td>NaN</td>\n",
       "      <td>&lt;NA&gt;</td>\n",
       "      <td>&lt;NA&gt;</td>\n",
       "      <td>&lt;NA&gt;</td>\n",
       "      <td>3</td>\n",
       "      <td>2016</td>\n",
       "      <td>56</td>\n",
       "    </tr>\n",
       "    <tr>\n",
       "      <th>3</th>\n",
       "      <td>201600000002</td>\n",
       "      <td>2</td>\n",
       "      <td>2</td>\n",
       "      <td>3</td>\n",
       "      <td>1</td>\n",
       "      <td>0.0</td>\n",
       "      <td>11</td>\n",
       "      <td>0</td>\n",
       "      <td>0</td>\n",
       "      <td>0</td>\n",
       "      <td>2000</td>\n",
       "      <td>A01</td>\n",
       "      <td>NaN</td>\n",
       "      <td>&lt;NA&gt;</td>\n",
       "      <td>&lt;NA&gt;</td>\n",
       "      <td>&lt;NA&gt;</td>\n",
       "      <td>3</td>\n",
       "      <td>2016</td>\n",
       "      <td>16</td>\n",
       "    </tr>\n",
       "    <tr>\n",
       "      <th>4</th>\n",
       "      <td>201600000002</td>\n",
       "      <td>3</td>\n",
       "      <td>2</td>\n",
       "      <td>3</td>\n",
       "      <td>2</td>\n",
       "      <td>0.0</td>\n",
       "      <td>11</td>\n",
       "      <td>0</td>\n",
       "      <td>0</td>\n",
       "      <td>0</td>\n",
       "      <td>1962</td>\n",
       "      <td>A01</td>\n",
       "      <td>NaN</td>\n",
       "      <td>&lt;NA&gt;</td>\n",
       "      <td>&lt;NA&gt;</td>\n",
       "      <td>&lt;NA&gt;</td>\n",
       "      <td>3</td>\n",
       "      <td>2016</td>\n",
       "      <td>54</td>\n",
       "    </tr>\n",
       "  </tbody>\n",
       "</table>\n",
       "</div>"
      ],
      "text/plain": [
       "        Num_Acc  place  catu  grav  sexe  trajet  secu  locp  actp  etatp  \\\n",
       "0  201600000001      1     1     1     2     0.0    11     0     0      0   \n",
       "1  201600000001      1     1     3     1     9.0    21     0     0      0   \n",
       "2  201600000002      1     1     3     1     5.0    11     0     0      0   \n",
       "3  201600000002      2     2     3     1     0.0    11     0     0      0   \n",
       "4  201600000002      3     2     3     2     0.0    11     0     0      0   \n",
       "\n",
       "   an_nais num_veh id_vehicule  secu1  secu2  secu3  grav2  year  age  \n",
       "0     1983     B02         NaN   <NA>   <NA>   <NA>      1  2016   33  \n",
       "1     2001     A01         NaN   <NA>   <NA>   <NA>      3  2016   15  \n",
       "2     1960     A01         NaN   <NA>   <NA>   <NA>      3  2016   56  \n",
       "3     2000     A01         NaN   <NA>   <NA>   <NA>      3  2016   16  \n",
       "4     1962     A01         NaN   <NA>   <NA>   <NA>      3  2016   54  "
      ]
     },
     "execution_count": 7,
     "metadata": {},
     "output_type": "execute_result"
    }
   ],
   "source": [
    "dfUsagers['place']=dfUsagers['place'].astype('Int32')\n",
    "dfUsagers['secu'] =dfUsagers['secu'].astype('Int32')\n",
    "\n",
    "dfUsagers['an_nais']=dfUsagers['an_nais'].astype('Int32')\n",
    "\n",
    "# Age of people during the accident (removing ages above 99, could be completion issues and there are very few values)\n",
    "dfUsagers['age'] = dfUsagers.year - dfUsagers.an_nais\n",
    "dfUsagers.loc[dfUsagers['age'] > 99, 'age'] = np.nan\n",
    "\n",
    "dfUsagers['actp'] =dfUsagers['actp'].astype('Int32')\n",
    "dfUsagers['locp'] =dfUsagers['locp'].astype('Int32')\n",
    "dfUsagers['etatp']=dfUsagers['etatp'].astype('Int32')\n",
    "dfUsagers['secu1']=dfUsagers['secu1'].astype('Int32')\n",
    "dfUsagers['secu2']=dfUsagers['secu2'].astype('Int32')\n",
    "dfUsagers['secu3']=dfUsagers['secu3'].astype('Int32')\n",
    "\n",
    "\n",
    "dfUsagers.info()\n",
    "dfUsagers.head()"
   ]
  },
  {
   "cell_type": "code",
   "execution_count": 8,
   "id": "e0b989d0",
   "metadata": {},
   "outputs": [],
   "source": [
    "100 *dfUsagers['age'].isna().sum() / (dfUsagers['age'].isna().count())\n",
    "#Il y a 0.1% de Nan  -->supprime les usagers sans age\n",
    "dfUsagers.dropna(subset=['age'], inplace=True)"
   ]
  },
  {
   "cell_type": "code",
   "execution_count": 9,
   "id": "63da3864",
   "metadata": {},
   "outputs": [
    {
     "name": "stdout",
     "output_type": "stream",
     "text": [
      "<class 'pandas.core.frame.DataFrame'>\n",
      "Int64Index: 2377551 entries, 0 to 2380466\n",
      "Data columns (total 19 columns):\n",
      " #   Column       Dtype  \n",
      "---  ------       -----  \n",
      " 0   Num_Acc      int64  \n",
      " 1   place        Int32  \n",
      " 2   catu         int64  \n",
      " 3   grav         int64  \n",
      " 4   sexe         int64  \n",
      " 5   trajet       float64\n",
      " 6   secu         Int32  \n",
      " 7   locp         Int32  \n",
      " 8   actp         Int32  \n",
      " 9   etatp        Int32  \n",
      " 10  an_nais      Int32  \n",
      " 11  num_veh      object \n",
      " 12  id_vehicule  object \n",
      " 13  secu1        Int32  \n",
      " 14  secu2        Int32  \n",
      " 15  secu3        Int32  \n",
      " 16  grav2        int64  \n",
      " 17  year         int64  \n",
      " 18  age          Int64  \n",
      "dtypes: Int32(9), Int64(1), float64(1), int64(6), object(2)\n",
      "memory usage: 303.8+ MB\n"
     ]
    }
   ],
   "source": [
    "dfUsagers.info()"
   ]
  },
  {
   "cell_type": "code",
   "execution_count": 10,
   "id": "81a22d56",
   "metadata": {},
   "outputs": [
    {
     "data": {
      "text/plain": [
       "Num_Acc         0.000000\n",
       "place           5.177218\n",
       "catu            0.000000\n",
       "grav            0.000000\n",
       "sexe            0.000000\n",
       "trajet          0.020694\n",
       "secu           12.390733\n",
       "locp            2.369497\n",
       "actp            2.373745\n",
       "etatp           2.371894\n",
       "an_nais         0.000000\n",
       "num_veh         0.000000\n",
       "id_vehicule    89.986629\n",
       "secu1          89.986629\n",
       "secu2          89.986629\n",
       "secu3          89.986629\n",
       "grav2           0.000000\n",
       "year            0.000000\n",
       "age             0.000000\n",
       "dtype: float64"
      ]
     },
     "execution_count": 10,
     "metadata": {},
     "output_type": "execute_result"
    }
   ],
   "source": [
    "### Proportion of NA by variable\n",
    "dfUsagers.isnull().sum() * 100 / len(dfUsagers)"
   ]
  },
  {
   "cell_type": "code",
   "execution_count": 11,
   "id": "8d6e080c",
   "metadata": {},
   "outputs": [
    {
     "name": "stdout",
     "output_type": "stream",
     "text": [
      "Num_Acc 1064541\n",
      "place 11\n",
      "catu 4\n",
      "grav 4\n",
      "sexe 2\n",
      "trajet 8\n",
      "secu 24\n",
      "locp 11\n",
      "actp 12\n",
      "etatp 5\n",
      "age 100\n",
      "num_veh 163\n",
      "id_vehicule 177720\n",
      "secu1 11\n",
      "secu2 11\n",
      "secu3 11\n",
      "grav2 4\n"
     ]
    }
   ],
   "source": [
    "# Number of modalities by variable\n",
    "print('Num_Acc', len(dfUsagers.Num_Acc.value_counts()))\n",
    "print('place', len(dfUsagers.place.value_counts()))\n",
    "print('catu', len(dfUsagers.catu.value_counts()))\n",
    "print('grav', len(dfUsagers.grav.value_counts()))\n",
    "print('sexe', len(dfUsagers.sexe.value_counts()))\n",
    "print('trajet', len(dfUsagers.trajet.value_counts()))\n",
    "print('secu', len(dfUsagers.secu.value_counts()))\n",
    "print('locp', len(dfUsagers.locp.value_counts()))\n",
    "print('actp', len(dfUsagers.actp.value_counts()))\n",
    "print('etatp', len(dfUsagers.etatp.value_counts()))\n",
    "print('age', len(dfUsagers.age.value_counts()))\n",
    "print('num_veh', len(dfUsagers.num_veh.value_counts()))\n",
    "print('id_vehicule', len(dfUsagers.id_vehicule.value_counts()))\n",
    "print('secu1', len(dfUsagers.secu1.value_counts()))\n",
    "print('secu2', len(dfUsagers.secu2.value_counts()))\n",
    "print('secu3', len(dfUsagers.secu3.value_counts()))\n",
    "print('grav2', len(dfUsagers.grav2.value_counts()))\n",
    "\n"
   ]
  },
  {
   "cell_type": "markdown",
   "id": "7db53411",
   "metadata": {},
   "source": [
    "###  GRAPHS"
   ]
  },
  {
   "cell_type": "markdown",
   "id": "2f17b429",
   "metadata": {},
   "source": [
    "#### Distribution des variables"
   ]
  },
  {
   "cell_type": "code",
   "execution_count": 12,
   "id": "7e739100",
   "metadata": {},
   "outputs": [
    {
     "data": {
      "image/png": "[encoded data removed]",
      "text/plain": [
       "<Figure size 1200x800 with 6 Axes>"
      ]
     },
     "metadata": {},
     "output_type": "display_data"
    }
   ],
   "source": [
    "dfUsagers[['age','place','actp','locp','secu']].hist(figsize=(12, 8));\n"
   ]
  },
  {
   "cell_type": "code",
   "execution_count": 13,
   "id": "de04a6e1",
   "metadata": {},
   "outputs": [
    {
     "name": "stderr",
     "output_type": "stream",
     "text": [
      "C:\\Users\\possa\\AppData\\Local\\Temp\\ipykernel_20464\\3061787389.py:3: SettingWithCopyWarning: \n",
      "A value is trying to be set on a copy of a slice from a DataFrame.\n",
      "Try using .loc[row_indexer,col_indexer] = value instead\n",
      "\n",
      "See the caveats in the documentation: https://pandas.pydata.org/pandas-docs/stable/user_guide/indexing.html#returning-a-view-versus-a-copy\n",
      "  df['decade']=10*dfUsagers['age'].floordiv(10)\n"
     ]
    },
    {
     "data": {
      "image/png": "[encoded data removed]",
      "text/plain": [
       "<Figure size 1200x500 with 1 Axes>"
      ]
     },
     "metadata": {},
     "output_type": "display_data"
    }
   ],
   "source": [
    "#nbre d'accidents par année de nais. et par gravité\n",
    "df=dfUsagers[['Num_Acc','age','grav2']]\n",
    "df['decade']=10*dfUsagers['age'].floordiv(10)\n",
    "\n",
    "plt.figure(figsize=(12,5))\n",
    "ax=sns.countplot(x='decade',data=df,palette=['#33FF66','#FFFF77','#F4B650','#FF0033'],hue='grav2')\n",
    "ax.set_xlabel(\"Age au jour de l'accident\", fontsize = 10)\n",
    "ax.set_ylabel(\"Nb d'accidents\", fontsize = 10)\n",
    "ax.set_title(\"Nombre d'accidents par décade et par gravité\");\n",
    "\n",
    "ax.legend(title='Gravité', loc='upper left', labels=['Indemne', 'Blessé léger', 'Blessé hospitalisé','Tué']);"
   ]
  },
  {
   "cell_type": "code",
   "execution_count": 14,
   "id": "408ad6d3",
   "metadata": {},
   "outputs": [
    {
     "data": {
      "text/html": [
       "<div>\n",
       "<style scoped>\n",
       "    .dataframe tbody tr th:only-of-type {\n",
       "        vertical-align: middle;\n",
       "    }\n",
       "\n",
       "    .dataframe tbody tr th {\n",
       "        vertical-align: top;\n",
       "    }\n",
       "\n",
       "    .dataframe thead th {\n",
       "        text-align: right;\n",
       "    }\n",
       "</style>\n",
       "<table border=\"1\" class=\"dataframe\">\n",
       "  <thead>\n",
       "    <tr style=\"text-align: right;\">\n",
       "      <th></th>\n",
       "      <th>prop</th>\n",
       "      <th>count</th>\n",
       "    </tr>\n",
       "  </thead>\n",
       "  <tbody>\n",
       "    <tr>\n",
       "      <th>1</th>\n",
       "      <td>0.409170</td>\n",
       "      <td>972822</td>\n",
       "    </tr>\n",
       "    <tr>\n",
       "      <th>2</th>\n",
       "      <td>0.361486</td>\n",
       "      <td>859452</td>\n",
       "    </tr>\n",
       "    <tr>\n",
       "      <th>3</th>\n",
       "      <td>0.202534</td>\n",
       "      <td>481535</td>\n",
       "    </tr>\n",
       "    <tr>\n",
       "      <th>4</th>\n",
       "      <td>0.026810</td>\n",
       "      <td>63742</td>\n",
       "    </tr>\n",
       "  </tbody>\n",
       "</table>\n",
       "</div>"
      ],
      "text/plain": [
       "       prop   count\n",
       "1  0.409170  972822\n",
       "2  0.361486  859452\n",
       "3  0.202534  481535\n",
       "4  0.026810   63742"
      ]
     },
     "execution_count": 14,
     "metadata": {},
     "output_type": "execute_result"
    }
   ],
   "source": [
    "# Gravity variable in Usagers dataframe\n",
    "pd.DataFrame({'prop':dfUsagers.grav2.value_counts(normalize=True),\n",
    "              'count':dfUsagers.grav2.value_counts()})"
   ]
  },
  {
   "cell_type": "markdown",
   "id": "8375643d",
   "metadata": {},
   "source": [
    "## Table des Véhicules"
   ]
  },
  {
   "cell_type": "code",
   "execution_count": 15,
   "id": "ab346ea2",
   "metadata": {},
   "outputs": [
    {
     "data": {
      "text/html": [
       "<div>\n",
       "<style scoped>\n",
       "    .dataframe tbody tr th:only-of-type {\n",
       "        vertical-align: middle;\n",
       "    }\n",
       "\n",
       "    .dataframe tbody tr th {\n",
       "        vertical-align: top;\n",
       "    }\n",
       "\n",
       "    .dataframe thead th {\n",
       "        text-align: right;\n",
       "    }\n",
       "</style>\n",
       "<table border=\"1\" class=\"dataframe\">\n",
       "  <thead>\n",
       "    <tr style=\"text-align: right;\">\n",
       "      <th></th>\n",
       "      <th>Num_Acc</th>\n",
       "      <th>senc</th>\n",
       "      <th>catv</th>\n",
       "      <th>occutc</th>\n",
       "      <th>obs</th>\n",
       "      <th>obsm</th>\n",
       "      <th>choc</th>\n",
       "      <th>manv</th>\n",
       "      <th>num_veh</th>\n",
       "      <th>id_vehicule</th>\n",
       "      <th>motor</th>\n",
       "      <th>grav</th>\n",
       "    </tr>\n",
       "  </thead>\n",
       "  <tbody>\n",
       "    <tr>\n",
       "      <th>0</th>\n",
       "      <td>201600000001</td>\n",
       "      <td>0.0</td>\n",
       "      <td>7</td>\n",
       "      <td>0.0</td>\n",
       "      <td>0.0</td>\n",
       "      <td>0.0</td>\n",
       "      <td>1.0</td>\n",
       "      <td>1.0</td>\n",
       "      <td>B02</td>\n",
       "      <td>NaN</td>\n",
       "      <td>NaN</td>\n",
       "      <td>3</td>\n",
       "    </tr>\n",
       "    <tr>\n",
       "      <th>1</th>\n",
       "      <td>201600000001</td>\n",
       "      <td>0.0</td>\n",
       "      <td>2</td>\n",
       "      <td>0.0</td>\n",
       "      <td>0.0</td>\n",
       "      <td>0.0</td>\n",
       "      <td>7.0</td>\n",
       "      <td>15.0</td>\n",
       "      <td>A01</td>\n",
       "      <td>NaN</td>\n",
       "      <td>NaN</td>\n",
       "      <td>3</td>\n",
       "    </tr>\n",
       "    <tr>\n",
       "      <th>2</th>\n",
       "      <td>201600000002</td>\n",
       "      <td>0.0</td>\n",
       "      <td>7</td>\n",
       "      <td>0.0</td>\n",
       "      <td>6.0</td>\n",
       "      <td>0.0</td>\n",
       "      <td>1.0</td>\n",
       "      <td>1.0</td>\n",
       "      <td>A01</td>\n",
       "      <td>NaN</td>\n",
       "      <td>NaN</td>\n",
       "      <td>3</td>\n",
       "    </tr>\n",
       "    <tr>\n",
       "      <th>3</th>\n",
       "      <td>201600000003</td>\n",
       "      <td>0.0</td>\n",
       "      <td>7</td>\n",
       "      <td>0.0</td>\n",
       "      <td>0.0</td>\n",
       "      <td>1.0</td>\n",
       "      <td>6.0</td>\n",
       "      <td>1.0</td>\n",
       "      <td>A01</td>\n",
       "      <td>NaN</td>\n",
       "      <td>NaN</td>\n",
       "      <td>3</td>\n",
       "    </tr>\n",
       "    <tr>\n",
       "      <th>4</th>\n",
       "      <td>201600000004</td>\n",
       "      <td>0.0</td>\n",
       "      <td>32</td>\n",
       "      <td>0.0</td>\n",
       "      <td>0.0</td>\n",
       "      <td>0.0</td>\n",
       "      <td>1.0</td>\n",
       "      <td>1.0</td>\n",
       "      <td>B02</td>\n",
       "      <td>NaN</td>\n",
       "      <td>NaN</td>\n",
       "      <td>3</td>\n",
       "    </tr>\n",
       "  </tbody>\n",
       "</table>\n",
       "</div>"
      ],
      "text/plain": [
       "        Num_Acc  senc  catv  occutc  obs  obsm  choc  manv num_veh  \\\n",
       "0  201600000001   0.0     7     0.0  0.0   0.0   1.0   1.0     B02   \n",
       "1  201600000001   0.0     2     0.0  0.0   0.0   7.0  15.0     A01   \n",
       "2  201600000002   0.0     7     0.0  6.0   0.0   1.0   1.0     A01   \n",
       "3  201600000003   0.0     7     0.0  0.0   1.0   6.0   1.0     A01   \n",
       "4  201600000004   0.0    32     0.0  0.0   0.0   1.0   1.0     B02   \n",
       "\n",
       "  id_vehicule  motor  grav  \n",
       "0         NaN    NaN     3  \n",
       "1         NaN    NaN     3  \n",
       "2         NaN    NaN     3  \n",
       "3         NaN    NaN     3  \n",
       "4         NaN    NaN     3  "
      ]
     },
     "execution_count": 15,
     "metadata": {},
     "output_type": "execute_result"
    }
   ],
   "source": [
    "dfVehicules.head()"
   ]
  },
  {
   "cell_type": "code",
   "execution_count": 16,
   "id": "d8aaf4f5",
   "metadata": {},
   "outputs": [
    {
     "name": "stdout",
     "output_type": "stream",
     "text": [
      "<class 'pandas.core.frame.DataFrame'>\n",
      "RangeIndex: 1817587 entries, 0 to 1817586\n",
      "Data columns (total 12 columns):\n",
      " #   Column       Dtype  \n",
      "---  ------       -----  \n",
      " 0   Num_Acc      int64  \n",
      " 1   senc         float64\n",
      " 2   catv         int64  \n",
      " 3   occutc       float64\n",
      " 4   obs          float64\n",
      " 5   obsm         float64\n",
      " 6   choc         float64\n",
      " 7   manv         float64\n",
      " 8   num_veh      object \n",
      " 9   id_vehicule  object \n",
      " 10  motor        float64\n",
      " 11  grav         int64  \n",
      "dtypes: float64(7), int64(3), object(2)\n",
      "memory usage: 166.4+ MB\n"
     ]
    }
   ],
   "source": [
    "dfVehicules.info()"
   ]
  },
  {
   "cell_type": "code",
   "execution_count": 17,
   "id": "4249425f",
   "metadata": {},
   "outputs": [
    {
     "data": {
      "text/plain": [
       "array([ 1.,  7.,  6.,  8.,  3.,  2.,  0.,  9.,  5.,  4., nan, -1.])"
      ]
     },
     "execution_count": 17,
     "metadata": {},
     "output_type": "execute_result"
    }
   ],
   "source": [
    " dfVehicules['choc'].unique()"
   ]
  },
  {
   "cell_type": "code",
   "execution_count": 18,
   "id": "0e7bcf66",
   "metadata": {},
   "outputs": [],
   "source": [
    "## choc: libellé des chocs\n",
    "dfVehicules['lbl_choc'] =  dfVehicules['choc'].replace({\n",
    "                                             -1.0:'Non renseigné',\n",
    "                                              0.0:'Aucun choc',\n",
    "                                              1.0:'Avant',\n",
    "                                              2.0:'Avant droit',\n",
    "                                              3.0:'Avant gauche',\n",
    "                                              4.0:'Arrière',\n",
    "                                              5.0:'Arrière droit',\n",
    "                                              6.0:'Arrière gauche',\n",
    "                                              7.0:'Coté droit',\n",
    "                                              8.0:'Coté gauche',\n",
    "                                              9.0:'Chocs multiples (tonneaux)'\n",
    "                                              })\n",
    "\n"
   ]
  },
  {
   "cell_type": "code",
   "execution_count": 19,
   "id": "96b51f1e",
   "metadata": {},
   "outputs": [
    {
     "data": {
      "text/plain": [
       "Num_Acc         0.000000\n",
       "senc            0.014965\n",
       "catv            0.000000\n",
       "occutc          9.917710\n",
       "obs             0.055348\n",
       "obsm            0.042804\n",
       "choc            0.021842\n",
       "manv            0.025748\n",
       "num_veh         0.000000\n",
       "id_vehicule    89.999048\n",
       "motor          89.999048\n",
       "grav            0.000000\n",
       "lbl_choc        0.021842\n",
       "dtype: float64"
      ]
     },
     "execution_count": 19,
     "metadata": {},
     "output_type": "execute_result"
    }
   ],
   "source": [
    "### Proportion of NA by variable\n",
    "dfVehicules.isnull().sum() * 100 / len(dfVehicules)"
   ]
  },
  {
   "cell_type": "code",
   "execution_count": 20,
   "id": "fdac9533",
   "metadata": {},
   "outputs": [
    {
     "name": "stdout",
     "output_type": "stream",
     "text": [
      "Num_Acc 1065053\n",
      "senc 5\n",
      "catv 41\n",
      "occutc 124\n",
      "obs 19\n",
      "obsm 8\n",
      "choc 11\n",
      "lbl_choc 11\n",
      "manv 28\n",
      "num_veh 175\n",
      "motor 8\n",
      "grav 3\n"
     ]
    }
   ],
   "source": [
    "# Number of modalities by variable\n",
    "print('Num_Acc', len(dfVehicules.Num_Acc.value_counts()))\n",
    "print('senc', len(dfVehicules.senc.value_counts()))\n",
    "print('catv', len(dfVehicules.catv.value_counts()))\n",
    "print('occutc', len(dfVehicules.occutc.value_counts()))\n",
    "print('obs', len(dfVehicules.obs.value_counts()))\n",
    "print('obsm', len(dfVehicules.obsm.value_counts()))\n",
    "print('choc', len(dfVehicules.choc.value_counts()))\n",
    "print('lbl_choc', len(dfVehicules.choc.value_counts()))\n",
    "print('manv', len(dfVehicules.manv.value_counts()))\n",
    "print('num_veh', len(dfVehicules.num_veh.value_counts()))\n",
    "print('motor', len(dfVehicules.motor.value_counts()))\n",
    "print('grav', len(dfVehicules.grav.value_counts()))\n"
   ]
  },
  {
   "cell_type": "markdown",
   "id": "123368d9",
   "metadata": {},
   "source": [
    "###  GRAPHS"
   ]
  },
  {
   "cell_type": "markdown",
   "id": "23442e99",
   "metadata": {},
   "source": [
    "#### Distributions des variables"
   ]
  },
  {
   "cell_type": "code",
   "execution_count": 21,
   "id": "c917aa1f",
   "metadata": {},
   "outputs": [
    {
     "data": {
      "text/plain": [
       "175"
      ]
     },
     "execution_count": 21,
     "metadata": {},
     "output_type": "execute_result"
    }
   ],
   "source": [
    "# dfVehicules[['num_veh']].hist(figsize=(20, 8), layout=(2, 3));\n",
    "len(dfVehicules['num_veh'].unique())"
   ]
  },
  {
   "cell_type": "code",
   "execution_count": 22,
   "id": "862f6829",
   "metadata": {},
   "outputs": [
    {
     "data": {
      "image/png": "[encoded data removed]",
      "text/plain": [
       "<Figure size 2000x800 with 6 Axes>"
      ]
     },
     "metadata": {},
     "output_type": "display_data"
    }
   ],
   "source": [
    "\n",
    "dfVehicules[['choc','manv','occutc','obs','grav']].hist(figsize=(20, 8), layout=(2, 3));\n"
   ]
  },
  {
   "cell_type": "code",
   "execution_count": 23,
   "id": "f4cd5efc",
   "metadata": {},
   "outputs": [
    {
     "data": {
      "text/html": [
       "<div>\n",
       "<style scoped>\n",
       "    .dataframe tbody tr th:only-of-type {\n",
       "        vertical-align: middle;\n",
       "    }\n",
       "\n",
       "    .dataframe tbody tr th {\n",
       "        vertical-align: top;\n",
       "    }\n",
       "\n",
       "    .dataframe thead th {\n",
       "        text-align: right;\n",
       "    }\n",
       "</style>\n",
       "<table border=\"1\" class=\"dataframe\">\n",
       "  <thead>\n",
       "    <tr style=\"text-align: right;\">\n",
       "      <th></th>\n",
       "      <th>prop</th>\n",
       "      <th>count</th>\n",
       "    </tr>\n",
       "  </thead>\n",
       "  <tbody>\n",
       "    <tr>\n",
       "      <th>2</th>\n",
       "      <td>0.590521</td>\n",
       "      <td>1073323</td>\n",
       "    </tr>\n",
       "    <tr>\n",
       "      <th>3</th>\n",
       "      <td>0.357891</td>\n",
       "      <td>650498</td>\n",
       "    </tr>\n",
       "    <tr>\n",
       "      <th>4</th>\n",
       "      <td>0.051588</td>\n",
       "      <td>93766</td>\n",
       "    </tr>\n",
       "  </tbody>\n",
       "</table>\n",
       "</div>"
      ],
      "text/plain": [
       "       prop    count\n",
       "2  0.590521  1073323\n",
       "3  0.357891   650498\n",
       "4  0.051588    93766"
      ]
     },
     "execution_count": 23,
     "metadata": {},
     "output_type": "execute_result"
    }
   ],
   "source": [
    "# Gravity variable in dfVehicules dataframe\n",
    "pd.DataFrame({'prop':dfVehicules.grav.value_counts(normalize=True),\n",
    "              'count':dfVehicules.grav.value_counts()})"
   ]
  },
  {
   "cell_type": "markdown",
   "id": "e0718b2e",
   "metadata": {},
   "source": [
    "# Graphs pertinants\n",
    "- Table Usagers-"
   ]
  },
  {
   "cell_type": "code",
   "execution_count": 24,
   "id": "228d7827",
   "metadata": {},
   "outputs": [
    {
     "data": {
      "image/png": "[encoded data removed]",
      "text/plain": [
       "<Figure size 1200x500 with 1 Axes>"
      ]
     },
     "metadata": {},
     "output_type": "display_data"
    }
   ],
   "source": [
    "#nbre d'accidents par point d'impact et par gravité\n",
    "df_choc=dfVehicules[['Num_Acc','choc','lbl_choc','grav']]\n",
    "\n",
    "\n",
    "plt.figure(figsize=(12,5))\n",
    "ax=sns.countplot(x='lbl_choc',data=df_choc,palette=['#33FF66','#F4B650','#FF0033'],hue='grav')\n",
    "ax.set_xlabel(\"Points d'impacts lors de l'accident\", fontsize = 10)\n",
    "ax.set_xticklabels(ax.get_xticklabels(), rotation=10, ha=\"right\")\n",
    "\n",
    "ax.set_ylabel(\"Nb d'accidents\", fontsize = 10)\n",
    "ax.set_title(\"Nombre d'accidents par points d'impact et par gravité\");\n",
    "\n",
    "ax.legend(title='Gravité', loc='upper right', labels=['Indemne','Blessé', 'Tué']);\n",
    "\n",
    "# ax.set(yscale=\"log\")\n",
    "# ax.yaxis.set_major_formatter(plt.FuncFormatter(lambda y, _: '{:.2%}'.format(y/10000)))\n",
    "ax.yaxis.set_major_formatter(plt.FuncFormatter(lambda y, _: '{:.0f}k'.format(y/1000)))"
   ]
  },
  {
   "cell_type": "code",
   "execution_count": 25,
   "id": "4cf880ad",
   "metadata": {},
   "outputs": [
    {
     "data": {
      "text/html": [
       "<div>\n",
       "<style scoped>\n",
       "    .dataframe tbody tr th:only-of-type {\n",
       "        vertical-align: middle;\n",
       "    }\n",
       "\n",
       "    .dataframe tbody tr th {\n",
       "        vertical-align: top;\n",
       "    }\n",
       "\n",
       "    .dataframe thead th {\n",
       "        text-align: right;\n",
       "    }\n",
       "</style>\n",
       "<table border=\"1\" class=\"dataframe\">\n",
       "  <thead>\n",
       "    <tr style=\"text-align: right;\">\n",
       "      <th></th>\n",
       "      <th>Num_Acc</th>\n",
       "      <th>choc</th>\n",
       "      <th>lbl_choc</th>\n",
       "      <th>grav</th>\n",
       "    </tr>\n",
       "  </thead>\n",
       "  <tbody>\n",
       "    <tr>\n",
       "      <th>76</th>\n",
       "      <td>201600000050</td>\n",
       "      <td>1.0</td>\n",
       "      <td>Avant</td>\n",
       "      <td>2</td>\n",
       "    </tr>\n",
       "    <tr>\n",
       "      <th>155</th>\n",
       "      <td>201600000101</td>\n",
       "      <td>1.0</td>\n",
       "      <td>Avant</td>\n",
       "      <td>2</td>\n",
       "    </tr>\n",
       "    <tr>\n",
       "      <th>157</th>\n",
       "      <td>201600000101</td>\n",
       "      <td>1.0</td>\n",
       "      <td>Avant</td>\n",
       "      <td>2</td>\n",
       "    </tr>\n",
       "    <tr>\n",
       "      <th>170</th>\n",
       "      <td>201600000110</td>\n",
       "      <td>1.0</td>\n",
       "      <td>Avant</td>\n",
       "      <td>2</td>\n",
       "    </tr>\n",
       "    <tr>\n",
       "      <th>176</th>\n",
       "      <td>201600000115</td>\n",
       "      <td>1.0</td>\n",
       "      <td>Avant</td>\n",
       "      <td>2</td>\n",
       "    </tr>\n",
       "    <tr>\n",
       "      <th>...</th>\n",
       "      <td>...</td>\n",
       "      <td>...</td>\n",
       "      <td>...</td>\n",
       "      <td>...</td>\n",
       "    </tr>\n",
       "    <tr>\n",
       "      <th>1817570</th>\n",
       "      <td>202000047736</td>\n",
       "      <td>1.0</td>\n",
       "      <td>Avant</td>\n",
       "      <td>2</td>\n",
       "    </tr>\n",
       "    <tr>\n",
       "      <th>1817578</th>\n",
       "      <td>202000047740</td>\n",
       "      <td>1.0</td>\n",
       "      <td>Avant</td>\n",
       "      <td>2</td>\n",
       "    </tr>\n",
       "    <tr>\n",
       "      <th>1817580</th>\n",
       "      <td>202000047741</td>\n",
       "      <td>1.0</td>\n",
       "      <td>Avant</td>\n",
       "      <td>2</td>\n",
       "    </tr>\n",
       "    <tr>\n",
       "      <th>1817585</th>\n",
       "      <td>202000047743</td>\n",
       "      <td>1.0</td>\n",
       "      <td>Avant</td>\n",
       "      <td>2</td>\n",
       "    </tr>\n",
       "    <tr>\n",
       "      <th>1817586</th>\n",
       "      <td>202000047744</td>\n",
       "      <td>1.0</td>\n",
       "      <td>Avant</td>\n",
       "      <td>2</td>\n",
       "    </tr>\n",
       "  </tbody>\n",
       "</table>\n",
       "<p>380113 rows × 4 columns</p>\n",
       "</div>"
      ],
      "text/plain": [
       "              Num_Acc  choc lbl_choc  grav\n",
       "76       201600000050   1.0    Avant     2\n",
       "155      201600000101   1.0    Avant     2\n",
       "157      201600000101   1.0    Avant     2\n",
       "170      201600000110   1.0    Avant     2\n",
       "176      201600000115   1.0    Avant     2\n",
       "...               ...   ...      ...   ...\n",
       "1817570  202000047736   1.0    Avant     2\n",
       "1817578  202000047740   1.0    Avant     2\n",
       "1817580  202000047741   1.0    Avant     2\n",
       "1817585  202000047743   1.0    Avant     2\n",
       "1817586  202000047744   1.0    Avant     2\n",
       "\n",
       "[380113 rows x 4 columns]"
      ]
     },
     "execution_count": 25,
     "metadata": {},
     "output_type": "execute_result"
    }
   ],
   "source": [
    "#dfVehicules['grav'].unique()\n",
    "df=df_choc[(df_choc['choc']==1) & (df_choc['grav']==2)]\n",
    "df"
   ]
  }
 ],
 "metadata": {
  "kernelspec": {
   "display_name": "datasc01",
   "language": "python",
   "name": "python3"
  },
  "language_info": {
   "codemirror_mode": {
    "name": "ipython",
    "version": 3
   },
   "file_extension": ".py",
   "mimetype": "text/x-python",
   "name": "python",
   "nbconvert_exporter": "python",
   "pygments_lexer": "ipython3",
   "version": "3.10.6"
  },
  "vscode": {
   "interpreter": {
    "hash": "a26ec87882ae64337b4a7c98a78c358f83433995cef044519888007a4eeecfe9"
   }
  }
 },
 "nbformat": 4,
 "nbformat_minor": 5
}
