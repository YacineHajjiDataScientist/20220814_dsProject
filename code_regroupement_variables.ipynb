{
 "cells": [
  {
   "cell_type": "code",
   "execution_count": 1,
   "metadata": {},
   "outputs": [
    {
     "name": "stderr",
     "output_type": "stream",
     "text": [
      "C:\\Users\\benpa\\AppData\\Local\\Temp\\ipykernel_13020\\1200764522.py:2: DtypeWarning: Columns (6,12,14,15,16,17) have mixed types. Specify dtype option on import or set low_memory=False.\n",
      "  carac = pd.read_csv(\"20220906_table_caracteristiques.csv\")\n",
      "C:\\Users\\benpa\\AppData\\Local\\Temp\\ipykernel_13020\\1200764522.py:4: DtypeWarning: Columns (4,9,10,14,15) have mixed types. Specify dtype option on import or set low_memory=False.\n",
      "  lieux = pd.read_csv(\"20220906_table_lieux.csv\")\n",
      "C:\\Users\\benpa\\AppData\\Local\\Temp\\ipykernel_13020\\1200764522.py:7: DtypeWarning: Columns (11) have mixed types. Specify dtype option on import or set low_memory=False.\n",
      "  vehicules = pd.read_csv(\"20220906_table_vehicules.csv\")\n"
     ]
    }
   ],
   "source": [
    "import pandas as pd \n",
    "carac = pd.read_csv(\"20220906_table_caracteristiques.csv\")\n",
    "carac = carac.drop([\"Unnamed: 0.1\",\"Unnamed: 0\"], axis = 1)\n",
    "lieux = pd.read_csv(\"20220906_table_lieux.csv\")\n",
    "lieux = lieux.drop([\"Unnamed: 0.1\",\"Unnamed: 0\"], axis = 1)\n",
    "\n",
    "vehicules = pd.read_csv(\"20220906_table_vehicules.csv\")\n",
    "vehicules = vehicules.drop([\"Unnamed: 0.1\",\"Unnamed: 0\"], axis = 1)\n"
   ]
  },
  {
   "cell_type": "code",
   "execution_count": 7,
   "metadata": {},
   "outputs": [],
   "source": [
    "def regroupement_cat_veh(x) :\n",
    "    cat1 = [ 2, 4, 5, 6, 30, 31, 32, 33,34, 80, 35, 36, 41, 42, 43] # 2, 3 roues et quads\n",
    "    cat2 = [3, 7, 8, 9, 10, 11, 12] # VL et VUL\n",
    "    cat3 = [13, 14, 15, 16, 17, 20, 21, 37, 38, 18] # PL \n",
    "    cat4 = [39] # Trains\n",
    "    cat5 = [40, 19] # Tramways\n",
    "    cat6 = [99] # Autres\n",
    "    cat7 = [0] # Indéterminable \n",
    "    cat8 = [1] \n",
    "    cat9 = [50,60]\n",
    "    if x in cat1 :\n",
    "        return \"2,3 roues & quads\"\n",
    "    elif x in cat2 :\n",
    "        return \"VL & VUL\"\n",
    "    elif x in cat3 :\n",
    "        return \"PL\"\n",
    "    elif x in cat4 :\n",
    "        return \"Train\"\n",
    "    elif x in cat5:\n",
    "        return \"Tram\"\n",
    "    elif x in cat6 :\n",
    "        return \"Autres\"\n",
    "    elif x in cat7 :\n",
    "        return \"Indéterminable\"\n",
    "    elif x in cat8 :\n",
    "        return \"Bicyclette\"\n",
    "    elif x in cat9 :\n",
    "        return \"EPD\"\n",
    "    \n",
    "vehicules[\"catvGrp\"] = vehicules.catv.apply(regroupement_cat_veh)\n",
    "\n"
   ]
  },
  {
   "cell_type": "code",
   "execution_count": 8,
   "metadata": {},
   "outputs": [],
   "source": [
    "def regroupement_intersection(x) :\n",
    "    if x == 1 :\n",
    "        return \"Hors intersection\"\n",
    "    elif x in [2,3,4] :\n",
    "        return \"Croisement de deux routes\"\n",
    "    elif x in [5,6,7] :\n",
    "        return \"Croisement circulaire\" \n",
    "    elif x == 8 :\n",
    "        return \"Passage à niveau\"\n",
    "    else : \n",
    "        return \"Autres\"\n",
    "\n",
    "carac[\"intGrp\"] = carac.int.apply(regroupement_intersection)\n",
    "\n"
   ]
  },
  {
   "cell_type": "code",
   "execution_count": null,
   "metadata": {},
   "outputs": [],
   "source": [
    "\n"
   ]
  }
 ],
 "metadata": {
  "kernelspec": {
   "display_name": "Python 3.9.13 ('base')",
   "language": "python",
   "name": "python3"
  },
  "language_info": {
   "codemirror_mode": {
    "name": "ipython",
    "version": 3
   },
   "file_extension": ".py",
   "mimetype": "text/x-python",
   "name": "python",
   "nbconvert_exporter": "python",
   "pygments_lexer": "ipython3",
   "version": "3.9.13"
  },
  "orig_nbformat": 4,
  "vscode": {
   "interpreter": {
    "hash": "c36ee19e8b3149dddcbe35ab5f92ddf427ca8ae53f8aa17469b1495a8f0d9a75"
   }
  }
 },
 "nbformat": 4,
 "nbformat_minor": 2
}
